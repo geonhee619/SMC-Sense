{
 "cells": [
  {
   "cell_type": "code",
   "execution_count": 1,
   "id": "15847ab1-8ccc-4846-93ef-7fe82bf5edce",
   "metadata": {},
   "outputs": [
    {
     "name": "stdout",
     "output_type": "stream",
     "text": [
      "Julia Version 1.10.4\n",
      "Commit 48d4fd4843 (2024-06-04 10:41 UTC)\n",
      "Build Info:\n",
      "  Official https://julialang.org/ release\n",
      "Platform Info:\n",
      "  OS: Windows (x86_64-w64-mingw32)\n",
      "  CPU: 24 × 12th Gen Intel(R) Core(TM) i9-12900K\n",
      "  WORD_SIZE: 64\n",
      "  LIBM: libopenlibm\n",
      "  LLVM: libLLVM-15.0.7 (ORCJIT, alderlake)\n",
      "Threads: 4 default, 0 interactive, 2 GC (on 24 virtual cores)\n",
      "Environment:\n",
      "  JULIA_NUM_THREADS = 4\n"
     ]
    }
   ],
   "source": [
    "versioninfo()"
   ]
  },
  {
   "cell_type": "code",
   "execution_count": 2,
   "id": "7499f1bc-34ec-4bb3-948b-8595d3cb5035",
   "metadata": {
    "scrolled": true
   },
   "outputs": [
    {
     "name": "stderr",
     "output_type": "stream",
     "text": [
      "\u001b[32m\u001b[1m  Activating\u001b[22m\u001b[39m project at `C:\\Users\\o6m1g\\Documents\\GitHub\\SMC-Election-private`\n"
     ]
    },
    {
     "name": "stdout",
     "output_type": "stream",
     "text": [
      "\u001b[32m\u001b[1mStatus\u001b[22m\u001b[39m `C:\\Users\\o6m1g\\Documents\\GitHub\\SMC-Election-private\\Project.toml`\n",
      "\u001b[32m⌃\u001b[39m \u001b[90m[0bf59076] \u001b[39mAdvancedHMC v0.8.1\n",
      "\u001b[32m⌃\u001b[39m \u001b[90m[c88b6f0a] \u001b[39mBridgeStan v2.6.2\n",
      "  \u001b[90m[336ed68f] \u001b[39mCSV v0.10.15\n",
      "\u001b[32m⌃\u001b[39m \u001b[90m[a93c6f00] \u001b[39mDataFrames v1.7.0\n",
      "  \u001b[90m[31c24e10] \u001b[39mDistributions v0.25.120\n",
      "  \u001b[90m[38e38edf] \u001b[39mGLM v1.9.0\n",
      "  \u001b[90m[4138dd39] \u001b[39mJLD v0.13.5\n",
      "  \u001b[90m[682c06a0] \u001b[39mJSON v0.21.4\n",
      "  \u001b[90m[b964fa9f] \u001b[39mLaTeXStrings v1.4.0\n",
      "  \u001b[90m[6fdf6af0] \u001b[39mLogDensityProblems v2.1.2\n",
      "  \u001b[90m[86f7a689] \u001b[39mNamedArrays v0.10.4\n",
      "  \u001b[90m[ce719bf2] \u001b[39mPSIS v0.9.8\n",
      "\u001b[32m⌃\u001b[39m \u001b[90m[91a5bcdd] \u001b[39mPlots v1.40.18\n",
      "\u001b[32m⌃\u001b[39m \u001b[90m[92933f4c] \u001b[39mProgressMeter v1.10.4\n",
      "  \u001b[90m[df47a6cb] \u001b[39mRData v1.1.0\n",
      "  \u001b[90m[2913bbd2] \u001b[39mStatsBase v0.34.6\n",
      "  \u001b[90m[4c63d2b9] \u001b[39mStatsFuns v1.5.0\n",
      "  \u001b[90m[f3b207a7] \u001b[39mStatsPlots v0.15.7\n",
      "  \u001b[90m[ade2ca70] \u001b[39mDates\n",
      "  \u001b[90m[37e2e46d] \u001b[39mLinearAlgebra\n",
      "  \u001b[90m[9a3f8284] \u001b[39mRandom\n",
      "  \u001b[90m[2f01184e] \u001b[39mSparseArrays v1.10.0\n",
      "\u001b[36m\u001b[1mInfo\u001b[22m\u001b[39m Packages marked with \u001b[32m⌃\u001b[39m have new versions available and may be upgradable.\n"
     ]
    }
   ],
   "source": [
    "using Pkg; Pkg.activate(\".\"); #Pkg.instantiate(); Pkg.precompile(); \n",
    "Pkg.status()"
   ]
  },
  {
   "cell_type": "code",
   "execution_count": 3,
   "id": "dea31ed8-28e0-43d9-a93b-1ef237331b5d",
   "metadata": {
    "scrolled": true
   },
   "outputs": [],
   "source": [
    "include(\"Init.jl\")"
   ]
  },
  {
   "cell_type": "code",
   "execution_count": null,
   "id": "39b495d2-fb0f-4e35-bc61-16465e033e94",
   "metadata": {
    "scrolled": true
   },
   "outputs": [],
   "source": [
    "if RUN_MCMC\n",
    "    LogDensity(model_0, data_0) |> run_MCMC\n",
    "    save(joinpath(\"input_$(SESSION)\", \"draws_$(RUN).jld\"), \"data\", samples);\n",
    "    CSV.write(joinpath(\"input_$(SESSION)\", \"stats-df_$(RUN).csv\"), stats |> DataFrame);\n",
    "end"
   ]
  },
  {
   "cell_type": "code",
   "execution_count": null,
   "id": "a306213e-0329-4d8e-8e02-a9e628fd248d",
   "metadata": {
    "scrolled": true
   },
   "outputs": [],
   "source": [
    "Random.seed!(1)\n",
    "\n",
    "if RUN_MCMC\n",
    "    \n",
    "    pattern_i = 1\n",
    "    ℓπ_vec = perturb_1(s=\"CA\") |> return_LogDensities\n",
    "\n",
    "    DIR = joinpath(\"output_$(SESSION)\", \"$(pattern_i)\", \"mcmc\")\n",
    "    isdir(DIR) || mkpath(DIR) # Ensure path is present\n",
    "    \n",
    "    times = Float64[]\n",
    "    for (ℓ, ℓπ) in enumerate(ℓπ_vec[2:end])\n",
    "        push!(times, @elapsed ℓπ |> run_MCMC)\n",
    "        save(joinpath(DIR, \"draws_$(RUN)_ℓ-$(ℓ).jld\"), \"data\", samples)\n",
    "        CSV.write(joinpath(DIR, \"stats-df_$(RUN)_ℓ-$(ℓ).csv\"), stats |> DataFrame)\n",
    "        save(joinpath(DIR, \"runtime_$(RUN).jld\"), \"data\", times)\n",
    "    end\n",
    "end"
   ]
  },
  {
   "cell_type": "code",
   "execution_count": null,
   "id": "074b7ddc-aa7f-463d-9ec4-167f98c67972",
   "metadata": {
    "scrolled": true
   },
   "outputs": [],
   "source": [
    "Random.seed!(1)\n",
    "\n",
    "if RUN_MCMC\n",
    "    \n",
    "    pattern_i = \"1-neg\"\n",
    "    ℓπ_vec = perturb_1(s=\"CA\"; negative=true) |> return_LogDensities\n",
    "\n",
    "    DIR = joinpath(\"output_$(SESSION)\", \"$(pattern_i)\", \"mcmc\")\n",
    "    isdir(DIR) || mkpath(DIR) # Ensure path is present\n",
    "    \n",
    "    times = Float64[]\n",
    "    for (ℓ, ℓπ) in enumerate(ℓπ_vec[2:end])\n",
    "        push!(times, @elapsed ℓπ |> run_MCMC)\n",
    "        save(joinpath(DIR, \"draws_$(RUN)_ℓ-$(ℓ).jld\"), \"data\", samples)\n",
    "        CSV.write(joinpath(DIR, \"stats-df_$(RUN)_ℓ-$(ℓ).csv\"), stats |> DataFrame)\n",
    "        save(joinpath(DIR, \"runtime_$(RUN).jld\"), \"data\", times)\n",
    "    end\n",
    "end"
   ]
  },
  {
   "cell_type": "code",
   "execution_count": null,
   "id": "ee42884b-7158-4a20-b461-e9de2628dde1",
   "metadata": {
    "scrolled": true
   },
   "outputs": [],
   "source": [
    "Random.seed!(1)\n",
    "\n",
    "if RUN_MCMC\n",
    "    \n",
    "    pattern_i = 2\n",
    "    ℓπ_vec = perturb_2() |> return_LogDensities\n",
    "\n",
    "    DIR = joinpath(\"output_$(SESSION)\", \"$(pattern_i)\", \"mcmc\")\n",
    "    isdir(DIR) || mkpath(DIR) # Ensure path is present\n",
    "    \n",
    "    times = Float64[]\n",
    "    for (ℓ, ℓπ) in enumerate(ℓπ_vec[2:end])\n",
    "        push!(times, @elapsed ℓπ |> run_MCMC)\n",
    "        save(joinpath(DIR, \"draws_$(RUN)_ℓ-$(ℓ).jld\"), \"data\", samples)\n",
    "        CSV.write(joinpath(DIR, \"stats-df_$(RUN)_ℓ-$(ℓ).csv\"), stats |> DataFrame)\n",
    "        save(joinpath(DIR, \"runtime_$(RUN).jld\"), \"data\", times)\n",
    "    end\n",
    "end"
   ]
  },
  {
   "cell_type": "code",
   "execution_count": null,
   "id": "46964c8b-f9b0-40af-aa4e-43f13265e6a5",
   "metadata": {
    "scrolled": true
   },
   "outputs": [],
   "source": [
    "Random.seed!(1)\n",
    "\n",
    "if RUN_MCMC\n",
    "    \n",
    "    pattern_i = \"2-neg\"\n",
    "    ℓπ_vec = perturb_2(negative=true) |> return_LogDensities\n",
    "\n",
    "    DIR = joinpath(\"output_$(SESSION)\", \"$(pattern_i)\", \"mcmc\")\n",
    "    isdir(DIR) || mkpath(DIR) # Ensure path is present\n",
    "    \n",
    "    times = Float64[]\n",
    "    for (ℓ, ℓπ) in enumerate(ℓπ_vec[2:end])\n",
    "        push!(times, @elapsed ℓπ |> run_MCMC)\n",
    "        save(joinpath(DIR, \"draws_$(RUN)_ℓ-$(ℓ).jld\"), \"data\", samples)\n",
    "        CSV.write(joinpath(DIR, \"stats-df_$(RUN)_ℓ-$(ℓ).csv\"), stats |> DataFrame)\n",
    "        save(joinpath(DIR, \"runtime_$(RUN).jld\"), \"data\", times)\n",
    "    end\n",
    "end"
   ]
  },
  {
   "cell_type": "code",
   "execution_count": null,
   "id": "05243ce1-0633-458b-8c1a-b399ee9bde47",
   "metadata": {},
   "outputs": [],
   "source": [
    "Random.seed!(1)\n",
    "\n",
    "if RUN_MCMC\n",
    "    \n",
    "    pattern_i = 3\n",
    "    ℓπ_vec = perturb_3() |> return_LogDensities\n",
    "\n",
    "    DIR = joinpath(\"output_$(SESSION)\", \"$(pattern_i)\", \"mcmc\")\n",
    "    isdir(DIR) || mkpath(DIR) # Ensure path is present\n",
    "    \n",
    "    times = Float64[]\n",
    "    for (ℓ, ℓπ) in enumerate(ℓπ_vec[2:end])\n",
    "        push!(times, @elapsed ℓπ |> run_MCMC)\n",
    "        save(joinpath(DIR, \"draws_$(RUN)_ℓ-$(ℓ).jld\"), \"data\", samples)\n",
    "        CSV.write(joinpath(DIR, \"stats-df_$(RUN)_ℓ-$(ℓ).csv\"), stats |> DataFrame)\n",
    "        save(joinpath(DIR, \"runtime_$(RUN).jld\"), \"data\", times)\n",
    "    end\n",
    "end"
   ]
  },
  {
   "cell_type": "code",
   "execution_count": null,
   "id": "18b27525-96ba-4d57-9bd9-12fad5fdd3aa",
   "metadata": {
    "scrolled": true
   },
   "outputs": [],
   "source": [
    "Random.seed!(1)\n",
    "\n",
    "if RUN_MCMC\n",
    "    \n",
    "    pattern_i = \"3-inv\"\n",
    "    ℓπ_vec = perturb_3(inverse=true) |> return_LogDensities\n",
    "\n",
    "    DIR = joinpath(\"output_$(SESSION)\", \"$(pattern_i)\", \"mcmc\")\n",
    "    isdir(DIR) || mkpath(DIR) # Ensure path is present\n",
    "    \n",
    "    times = Float64[]\n",
    "    for (ℓ, ℓπ) in enumerate(ℓπ_vec[2:end])\n",
    "        push!(times, @elapsed ℓπ |> run_MCMC)\n",
    "        save(joinpath(DIR, \"draws_$(RUN)_ℓ-$(ℓ).jld\"), \"data\", samples)\n",
    "        CSV.write(joinpath(DIR, \"stats-df_$(RUN)_ℓ-$(ℓ).csv\"), stats |> DataFrame)\n",
    "        save(joinpath(DIR, \"runtime_$(RUN).jld\"), \"data\", times)\n",
    "    end\n",
    "end"
   ]
  },
  {
   "cell_type": "code",
   "execution_count": null,
   "id": "860994c9-38fa-4038-b22f-b3ccd1acff77",
   "metadata": {
    "scrolled": true
   },
   "outputs": [],
   "source": [
    "Random.seed!(1)\n",
    "\n",
    "if RUN_MCMC\n",
    "    \n",
    "    pattern_i = 4\n",
    "    ℓπ_vec = perturb_4(30;\n",
    "        state=\"PA\", n_dem=300, n=600, date=RUN + Day(10),\n",
    "        poll_mode=1, poll_pop_state=3, pollster=\"NBC\"\n",
    "    ) |> return_LogDensities\n",
    "\n",
    "    DIR = joinpath(\"output_$(SESSION)\", \"$(pattern_i)\", \"mcmc\")\n",
    "    isdir(DIR) || mkpath(DIR) # Ensure path is present\n",
    "    \n",
    "    times = Float64[]\n",
    "    for (ℓ, ℓπ) in enumerate(ℓπ_vec[2:end])\n",
    "        push!(times, @elapsed ℓπ |> run_MCMC)\n",
    "        save(joinpath(DIR, \"draws_$(RUN)_ℓ-$(ℓ).jld\"), \"data\", samples)\n",
    "        CSV.write(joinpath(DIR, \"stats-df_$(RUN)_ℓ-$(ℓ).csv\"), stats |> DataFrame)\n",
    "        save(joinpath(DIR, \"runtime_$(RUN).jld\"), \"data\", times)\n",
    "    end\n",
    "end"
   ]
  },
  {
   "cell_type": "code",
   "execution_count": null,
   "id": "3b052206-07fb-4055-9690-b44d7b6185dc",
   "metadata": {},
   "outputs": [],
   "source": []
  }
 ],
 "metadata": {
  "kernelspec": {
   "display_name": "Julia (4 threads) 1.10.4",
   "language": "julia",
   "name": "julia-_4-threads_-1.10"
  },
  "language_info": {
   "file_extension": ".jl",
   "mimetype": "application/julia",
   "name": "julia",
   "version": "1.10.4"
  }
 },
 "nbformat": 4,
 "nbformat_minor": 5
}
